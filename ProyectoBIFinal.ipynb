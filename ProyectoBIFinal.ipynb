{
 "cells": [
  {
   "cell_type": "code",
   "execution_count": 1,
   "metadata": {},
   "outputs": [
    {
     "name": "stderr",
     "output_type": "stream",
     "text": [
      "/var/folders/4l/ns658b_x7jq0xzx004lrrl_w0000gn/T/ipykernel_3513/2272408707.py:1: DeprecationWarning: \n",
      "Pyarrow will become a required dependency of pandas in the next major release of pandas (pandas 3.0),\n",
      "(to allow more performant data types, such as the Arrow string type, and better interoperability with other libraries)\n",
      "but was not found to be installed on your system.\n",
      "If this would cause problems for you,\n",
      "please provide us feedback at https://github.com/pandas-dev/pandas/issues/54466\n",
      "        \n",
      "  import pandas as pd\n"
     ]
    }
   ],
   "source": [
    "import pandas as pd\n",
    "import nltk\n",
    "import spacy\n",
    "from nltk.corpus import stopwords\n",
    "from sklearn.feature_extraction.text import TfidfVectorizer\n",
    "from sklearn.pipeline import Pipeline\n",
    "from sklearn.naive_bayes import MultinomialNB, ComplementNB\n",
    "from sklearn.svm import LinearSVC\n",
    "from sklearn.ensemble import RandomForestClassifier, GradientBoostingClassifier\n",
    "from sklearn.linear_model import LogisticRegression\n",
    "from sklearn.model_selection import train_test_split\n",
    "from sklearn.metrics import classification_report, confusion_matrix"
   ]
  },
  {
   "cell_type": "code",
   "execution_count": 11,
   "metadata": {},
   "outputs": [
    {
     "name": "stdout",
     "output_type": "stream",
     "text": [
      "                                         Textos_espanol  sdg\n",
      "1935  Hicimos hincapié en que tales ejemplos debían ...    4\n",
      "2900  A continuación, discutimos brevemente algunas ...    5\n",
      "3163  El Banco de Desarrollo de Bahréin27 está espec...    5\n",
      "2742  Las variables independientes son el sexo, la p...    5\n",
      "1794  No hay espacio para considerar todas estas múl...    4\n",
      "1697  En las reuniones con el equipo de revisión, lo...    4\n",
      "89    Estos requisitos fueron tomados de la Decisión...    3\n",
      "903   De acuerdo con el aviso de alerta temprana de ...    3\n",
      "3529  Los enfoques de la presupuestación participati...    5\n",
      "1162  Este capítulo esboza el impacto del cambio de ...    4\n"
     ]
    },
    {
     "data": {
      "text/plain": [
       "<Axes: xlabel='sdg'>"
      ]
     },
     "execution_count": 11,
     "metadata": {},
     "output_type": "execute_result"
    },
    {
     "data": {
      "image/png": "[encoded data removed]",
      "text/plain": [
       "<Figure size 640x480 with 1 Axes>"
      ]
     },
     "metadata": {},
     "output_type": "display_data"
    }
   ],
   "source": [
    "# Cargar los datos\n",
    "df = pd.read_excel('data.xlsx')\n",
    "\n",
    "# Mostrar una muestra de los datos\n",
    "sample = df.sample(10)\n",
    "print(sample)\n",
    "\n",
    "#Explorar que las etiquetas sean congruentes con la información del negocio\n",
    "df['sdg'].value_counts().plot(kind='bar')"
   ]
  },
  {
   "cell_type": "code",
   "execution_count": 12,
   "metadata": {},
   "outputs": [
    {
     "name": "stdout",
     "output_type": "stream",
     "text": [
      "3239 810\n"
     ]
    }
   ],
   "source": [
    "# Definir características y etiquetas\n",
    "X = df['Textos_espanol']\n",
    "y = df['sdg']\n",
    "\n",
    "# Dividir los datos en conjuntos de entrenamiento y prueba\n",
    "X_train, X_test, y_train, y_test = train_test_split(X, y, test_size=0.2, random_state=42)\n",
    "print(len(X_train), len(X_test))"
   ]
  },
  {
   "cell_type": "code",
   "execution_count": 5,
   "metadata": {},
   "outputs": [
    {
     "name": "stderr",
     "output_type": "stream",
     "text": [
      "[nltk_data] Downloading package stopwords to\n",
      "[nltk_data]     /Users/sebastiangaona/nltk_data...\n",
      "[nltk_data]   Package stopwords is already up-to-date!\n"
     ]
    }
   ],
   "source": [
    "nltk.download('stopwords')\n",
    "\n",
    "# Cargar el modelo lemmatizador en español\n",
    "nlp = spacy.load('es_core_news_sm')\n",
    "\n",
    "# Obtener stopwords en español\n",
    "spanish_stopwords = set(stopwords.words('spanish'))  # Convertir a set para mayor eficiencia en la búsqueda\n",
    "\n",
    "# Definir un tokenizador que lematiza y elimina stopwords\n",
    "def lemmatize_and_remove_stopwords(text):\n",
    "    doc = nlp(text)\n",
    "    lemmatized_tokens = [token.lemma_ for token in doc if token.is_alpha]  # Lemmatize and keep only alphabetic tokens\n",
    "    tokens_without_stopwords = [token for token in lemmatized_tokens if token not in spanish_stopwords]  # Remove stopwords\n",
    "    return ' '.join(tokens_without_stopwords)  # Return as a single string\n"
   ]
  },
  {
   "cell_type": "code",
   "execution_count": 6,
   "metadata": {},
   "outputs": [],
   "source": [
    "# Definir los pipelines de cada algoritmo para clasificación de texto\n",
    "pipeMNB = Pipeline([\n",
    "    ('tfi', TfidfVectorizer(tokenizer=lemmatize_and_remove_stopwords, ngram_range=(1, 3))),\n",
    "    ('clf', MultinomialNB()),\n",
    "])\n",
    "\n",
    "pipeCNB = Pipeline([\n",
    "    ('tfi', TfidfVectorizer(tokenizer=lemmatize_and_remove_stopwords, ngram_range=(1, 3))),\n",
    "    ('clf', ComplementNB()),\n",
    "])\n",
    "\n",
    "pipeSVC = Pipeline([\n",
    "    ('tfi', TfidfVectorizer(tokenizer=lemmatize_and_remove_stopwords, ngram_range=(1, 3))),\n",
    "    ('clf', LinearSVC()),\n",
    "])\n",
    "\n",
    "pipeRF = Pipeline([\n",
    "    ('tfi', TfidfVectorizer(tokenizer=lemmatize_and_remove_stopwords, ngram_range=(1, 3))),\n",
    "    ('clf', RandomForestClassifier(n_estimators=100)),  \n",
    "])\n",
    "\n",
    "pipeGB = Pipeline([\n",
    "    ('tfi', TfidfVectorizer(tokenizer=lemmatize_and_remove_stopwords, ngram_range=(1, 3))),\n",
    "    ('clf', GradientBoostingClassifier(n_estimators=100)),  \n",
    "])\n",
    "\n",
    "pipeLR = Pipeline([\n",
    "    ('tfi', TfidfVectorizer(tokenizer=lemmatize_and_remove_stopwords, ngram_range=(1, 3))),\n",
    "    ('clf', LogisticRegression(max_iter=1000)),  \n",
    "])"
   ]
  },
  {
   "cell_type": "code",
   "execution_count": 7,
   "metadata": {},
   "outputs": [],
   "source": [
    "# Entrenar los modelos con el conjunto de entrenamiento\n",
    "pipeMNB.fit(X_train, y_train)\n",
    "pipeCNB.fit(X_train, y_train)\n",
    "pipeSVC.fit(X_train, y_train)\n",
    "pipeRF.fit(X_train, y_train)\n",
    "pipeGB.fit(X_train, y_train)\n",
    "pipeLR.fit(X_train, y_train)\n",
    "\n",
    "# Predecir y evaluar los modelos con el conjunto de prueba\n",
    "predictMNB = pipeMNB.predict(X_test)\n",
    "predictCNB = pipeCNB.predict(X_test)\n",
    "predictSVC = pipeSVC.predict(X_test)\n",
    "predictRF = pipeRF.predict(X_test)\n",
    "predictGB = pipeGB.predict(X_test)\n",
    "predictLR = pipeLR.predict(X_test)"
   ]
  },
  {
   "cell_type": "code",
   "execution_count": 9,
   "metadata": {},
   "outputs": [
    {
     "name": "stdout",
     "output_type": "stream",
     "text": [
      "MNB\n",
      "              precision    recall  f1-score   support\n",
      "\n",
      "           3       1.00      0.94      0.97       250\n",
      "           4       0.97      0.97      0.97       268\n",
      "           5       0.93      0.98      0.96       292\n",
      "\n",
      "    accuracy                           0.97       810\n",
      "   macro avg       0.97      0.96      0.97       810\n",
      "weighted avg       0.97      0.97      0.97       810\n",
      "\n",
      "CNB\n",
      "              precision    recall  f1-score   support\n",
      "\n",
      "           3       1.00      0.97      0.98       250\n",
      "           4       0.97      0.97      0.97       268\n",
      "           5       0.96      0.98      0.97       292\n",
      "\n",
      "    accuracy                           0.98       810\n",
      "   macro avg       0.98      0.97      0.98       810\n",
      "weighted avg       0.98      0.98      0.98       810\n",
      "\n",
      "SVC\n",
      "              precision    recall  f1-score   support\n",
      "\n",
      "           3       0.98      0.98      0.98       250\n",
      "           4       0.97      0.98      0.97       268\n",
      "           5       0.98      0.98      0.98       292\n",
      "\n",
      "    accuracy                           0.98       810\n",
      "   macro avg       0.98      0.98      0.98       810\n",
      "weighted avg       0.98      0.98      0.98       810\n",
      "\n",
      "RF\n",
      "              precision    recall  f1-score   support\n",
      "\n",
      "           3       0.99      0.94      0.96       250\n",
      "           4       0.93      0.98      0.95       268\n",
      "           5       0.96      0.95      0.95       292\n",
      "\n",
      "    accuracy                           0.96       810\n",
      "   macro avg       0.96      0.96      0.96       810\n",
      "weighted avg       0.96      0.96      0.96       810\n",
      "\n",
      "GB\n",
      "              precision    recall  f1-score   support\n",
      "\n",
      "           3       0.94      0.97      0.95       250\n",
      "           4       0.97      0.94      0.96       268\n",
      "           5       0.96      0.96      0.96       292\n",
      "\n",
      "    accuracy                           0.96       810\n",
      "   macro avg       0.96      0.96      0.96       810\n",
      "weighted avg       0.96      0.96      0.96       810\n",
      "\n",
      "LR\n",
      "              precision    recall  f1-score   support\n",
      "\n",
      "           3       0.99      0.98      0.98       250\n",
      "           4       0.97      0.98      0.97       268\n",
      "           5       0.98      0.98      0.98       292\n",
      "\n",
      "    accuracy                           0.98       810\n",
      "   macro avg       0.98      0.98      0.98       810\n",
      "weighted avg       0.98      0.98      0.98       810\n",
      "\n"
     ]
    }
   ],
   "source": [
    "print(\"MNB\")\n",
    "print(classification_report(y_test, predictMNB))\n",
    "\n",
    "print(\"CNB\")\n",
    "print(classification_report(y_test, predictCNB))\n",
    "\n",
    "print(\"SVC\")\n",
    "print(classification_report(y_test, predictSVC))\n",
    "\n",
    "print(\"RF\")\n",
    "print(classification_report(y_test, predictRF))\n",
    "\n",
    "print(\"GB\")\n",
    "print(classification_report(y_test, predictGB))\n",
    "\n",
    "print(\"LR\")\n",
    "print(classification_report(y_test, predictLR))"
   ]
  },
  {
   "cell_type": "code",
   "execution_count": null,
   "metadata": {},
   "outputs": [],
   "source": [
    "import seaborn as sns\n",
    "import matplotlib.pyplot as plt\n",
    "\n",
    "# Función para plotear la matriz de confusión\n",
    "def plot_confusion_matrix(cm, classes, title='Confusion Matrix'):\n",
    "    plt.figure(figsize=(8, 6))\n",
    "    sns.heatmap(cm, annot=True, fmt='d', cmap='Blues', xticklabels=classes, yticklabels=classes)\n",
    "    plt.title(title)\n",
    "    plt.xlabel('Predicted Label')\n",
    "    plt.ylabel('True Label')\n",
    "    plt.show()\n",
    "\n",
    "# Obtener y mostrar las matrices de confusión\n",
    "cmMNB = confusion_matrix(y_test, predictMNB)\n",
    "print(\"MNB Confusion Matrix\")\n",
    "plot_confusion_matrix(cmMNB, classes=y.unique())\n",
    "\n",
    "cmCNB = confusion_matrix(y_test, predictCNB)\n",
    "print(\"CNB Confusion Matrix\")\n",
    "plot_confusion_matrix(cmCNB, classes=y.unique())\n",
    "\n",
    "cmSVC = confusion_matrix(y_test, predictSVC)\n",
    "print(\"SVC Confusion Matrix\")\n",
    "plot_confusion_matrix(cmSVC, classes=y.unique())\n",
    "\n",
    "cmRF = confusion_matrix(y_test, predictRF)\n",
    "print(\"RF Confusion Matrix\")\n",
    "plot_confusion_matrix(cmRF, classes=y.unique())\n",
    "\n",
    "cmGB = confusion_matrix(y_test, predictGB)\n",
    "print(\"GB Confusion Matrix\")\n",
    "plot_confusion_matrix(cmGB, classes=y.unique())\n",
    "\n",
    "cmLR = confusion_matrix(y_test, predictLR)\n",
    "print(\"LR Confusion Matrix\")\n",
    "plot_confusion_matrix(cmLR, classes=y.unique())"
   ]
  }
 ],
 "metadata": {
  "kernelspec": {
   "display_name": "Python 3",
   "language": "python",
   "name": "python3"
  },
  "language_info": {
   "codemirror_mode": {
    "name": "ipython",
    "version": 3
   },
   "file_extension": ".py",
   "mimetype": "text/x-python",
   "name": "python",
   "nbconvert_exporter": "python",
   "pygments_lexer": "ipython3",
   "version": "3.12.1"
  }
 },
 "nbformat": 4,
 "nbformat_minor": 2
}
